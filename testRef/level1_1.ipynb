{
 "cells": [
  {
   "cell_type": "markdown",
   "id": "yellow-running",
   "metadata": {},
   "source": [
    "[level1_2](./level1_2.ipynb)\n",
    "[level2](./level2/level2.ipynb)\n",
    "[level3](./level2/level3/level3.ipynb)\n",
    "[root](/root.ipynb)"
   ]
  },
  {
   "cell_type": "code",
   "execution_count": null,
   "id": "academic-framing",
   "metadata": {},
   "outputs": [],
   "source": []
  }
 ],
 "metadata": {
  "kernelspec": {
   "display_name": "Python 3",
   "language": "python",
   "name": "python3"
  },
  "language_info": {
   "codemirror_mode": {
    "name": "ipython",
    "version": 3
   },
   "file_extension": ".py",
   "mimetype": "text/x-python",
   "name": "python",
   "nbconvert_exporter": "python",
   "pygments_lexer": "ipython3",
   "version": "3.8.5"
  }
 },
 "nbformat": 4,
 "nbformat_minor": 5
}
