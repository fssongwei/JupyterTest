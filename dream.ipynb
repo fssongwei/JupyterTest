{
 "metadata": {
  "colabVersion": "0.3.1",
  "default_view": {},
  "name": "",
  "views": {}
 },
 "nbformat": 3,
 "nbformat_minor": 0,
 "worksheets": [
  {
   "cells": [
    {
     "cell_type": "code",
     "collapsed": false,
     "sources": [
      "# imports and basic notebook setup\n",
      "from cStringIO import StringIO\n",
      "import numpy as np\n",
      "import scipy.ndimage as nd\n",
      "import PIL.Image\n",
      "from IPython.display import clear_output, Image, display\n",
      "from google.protobuf import text_format\n",
      "\n",
      "import caffe\n",
      "\n",
      "# If your GPU supports CUDA and Caffe was built with CUDA support,\n",
      "# uncomment the following to run Caffe operations on the GPU.\n",
      "# caffe.set_mode_gpu()\n",
      "# caffe.set_device(0) # select GPU device if multiple devices exist\n",
      "\n",
      "def showarray(a, fmt='jpeg'):\n",
      "    a = np.uint8(np.clip(a, 0, 255))\n",
      "    f = StringIO()\n",
      "    PIL.Image.fromarray(a).save(f, fmt)\n",
      "    display(Image(data=f.getvalue()))"
     ],
     "language": "python",
     "metadata": {
      "cellView": "both",
      "colab_type": "code",
      "id": "Pqz5k4syOZNA"
     },
     "outputs": [],
     "prompt_number": 2
    }
   ]
  }
 ]
}