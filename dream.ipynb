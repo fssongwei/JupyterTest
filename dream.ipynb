{
 "metadata": {
  "colabVersion": "0.3.1",
  "default_view": {},
  "name": "",
  "views": {}
 },
 "nbformat": 3,
 "nbformat_minor": 0,
 "worksheets": [
  {
   "cells": [
    {
     "cell_type": "markdown",
     "metadata": {
      "colab_type": "text",
      "id": "RMhGdYHuOZM8"
     },
     "source": [
      "# Deep Dreams (with Caffe)\n",
      "\n",
      "This notebook demonstrates how to use the [Caffe](http://caffe.berkeleyvision.org/) neural network framework to produce \"dream\" visuals shown in the [Google Research blog post](http://googleresearch.blogspot.ch/2015/06/inceptionism-going-deeper-into-neural.html).\n",
      "\n",
      "It'll be interesting to see what imagery people are able to generate using the described technique. If you post images to Google+, Facebook, or Twitter, be sure to tag them with **#deepdream** so other researchers can check them out too.\n",
      "\n",
      "##Dependencies\n",
      "This notebook is designed to have as few dependencies as possible:\n",
      "* Standard Python scientific stack: [NumPy](http://www.numpy.org/), [SciPy](http://www.scipy.org/), [PIL](http://www.pythonware.com/products/pil/), [IPython](http://ipython.org/). Those libraries can also be installed as a part of one of the scientific packages for Python, such as [Anaconda](http://continuum.io/downloads) or [Canopy](https://store.enthought.com/).\n",
      "* [Caffe](http://caffe.berkeleyvision.org/) deep learning framework ([installation instructions](http://caffe.berkeleyvision.org/installation.html)).\n",
      "* Google [protobuf](https://developers.google.com/protocol-buffers/) library that is used for Caffe model manipulation."
     ]
    },
    {
     "cell_type": "code",
     "collapsed": false,
     "input": [
      "# imports and basic notebook setup\n",
      "from cStringIO import StringIO\n",
      "import numpy as np\n",
      "import scipy.ndimage as nd\n",
      "import PIL.Image\n",
      "from IPython.display import clear_output, Image, display\n",
      "from google.protobuf import text_format\n",
      "\n",
      "import caffe\n",
      "\n",
      "# If your GPU supports CUDA and Caffe was built with CUDA support,\n",
      "# uncomment the following to run Caffe operations on the GPU.\n",
      "# caffe.set_mode_gpu()\n",
      "# caffe.set_device(0) # select GPU device if multiple devices exist\n",
      "\n",
      "def showarray(a, fmt='jpeg'):\n",
      "    a = np.uint8(np.clip(a, 0, 255))\n",
      "    f = StringIO()\n",
      "    PIL.Image.fromarray(a).save(f, fmt)\n",
      "    display(Image(data=f.getvalue()))"
     ],
     "language": "python",
     "metadata": {
      "cellView": "both",
      "colab_type": "code",
      "id": "Pqz5k4syOZNA"
     },
     "outputs": [],
     "prompt_number": 2
    },
    {
     "cell_type": "markdown",
     "metadata": {
      "colab_type": "text",
      "id": "AeF9mG-COZNE"
     },
     "source": [
      "## Loading DNN model\n",
      "In this notebook we are going to use a [GoogLeNet](https://github.com/BVLC/caffe/tree/master/models/bvlc_googlenet) model trained on [ImageNet](http://www.image-net.org/) dataset.\n",
      "Feel free to experiment with other models from Caffe [Model Zoo](https://github.com/BVLC/caffe/wiki/Model-Zoo). One particularly interesting [model](http://places.csail.mit.edu/downloadCNN.html) was trained in [MIT Places](http://places.csail.mit.edu/) dataset. It produced many visuals from the [original blog post](http://googleresearch.blogspot.ch/2015/06/inceptionism-going-deeper-into-neural.html)."
     ]
    },
    {
     "cell_type": "code",
     "collapsed": false,
     "input": [
      "model_path = '../caffe/models/bvlc_googlenet/' # substitute your path here\n",
      "net_fn   = model_path + 'deploy.prototxt'\n",
      "param_fn = model_path + 'bvlc_googlenet.caffemodel'\n",
      "\n",
      "# Patching model to be able to compute gradients.\n",
      "# Note that you can also manually add \"force_backward: true\" line to \"deploy.prototxt\".\n",
      "model = caffe.io.caffe_pb2.NetParameter()\n",
      "text_format.Merge(open(net_fn).read(), model)\n",
      "model.force_backward = True\n",
      "open('tmp.prototxt', 'w').write(str(model))\n",
      "\n",
      "net = caffe.Classifier('tmp.prototxt', param_fn,\n",
      "                       mean = np.float32([104.0, 116.0, 122.0]), # ImageNet mean, training set dependent\n",
      "                       channel_swap = (2,1,0)) # the reference model has channels in BGR order instead of RGB\n",
      "\n",
      "# a couple of utility functions for converting to and from Caffe's input image layout\n",
      "def preprocess(net, img):\n",
      "    return np.float32(np.rollaxis(img, 2)[::-1]) - net.transformer.mean['data']\n",
      "def deprocess(net, img):\n",
      "    return np.dstack((img + net.transformer.mean['data'])[::-1])"
     ],
     "language": "python",
     "metadata": {
      "cellView": "both",
      "colab_type": "code",
      "id": "i9hkSm1IOZNR"
     },
     "outputs": [],
     "prompt_number": 3
    },
    {
     "cell_type": "heading",
     "level": 2,
     "metadata": {
      "colab_type": "text",
      "id": "UeV_fJ4QOZNb"
     },
     "source": [
      " Producing dreams"
     ]
    },
    {
     "cell_type": "markdown",
     "metadata": {
      "colab_type": "text",
      "id": "9udrp3efOZNd"
     },
     "source": [
      "Making the \"dream\" images is very simple. Essentially it is just a gradient ascent process that tries to maximize the L2 norm of activations of a particular DNN layer. Here are a few simple tricks that we found useful for getting good images:\n",
      "* offset image by a random jitter\n",
      "* normalize the magnitude of gradient ascent steps\n",
      "* apply ascent across multiple scales (octaves)\n",
      "\n",
      "First we implement a basic gradient ascent step function, applying the first two tricks:"
     ]
    },
    {
     "cell_type": "code",
     "collapsed": false,
     "input": [
      "def objective_L2(dst):\n",
      "    dst.diff[:] = dst.data \n",
      "\n",
      "def make_step(net, step_size=1.5, end='inception_4c/output', \n",
      "              jitter=32, clip=True, objective=objective_L2):\n",
      "    '''Basic gradient ascent step.'''\n",
      "\n",
      "    src = net.blobs['data'] # input image is stored in Net's 'data' blob\n",
      "    dst = net.blobs[end]\n",
      "\n",
      "    ox, oy = np.random.randint(-jitter, jitter+1, 2)\n",
      "    src.data[0] = np.roll(np.roll(src.data[0], ox, -1), oy, -2) # apply jitter shift\n",
      "            \n",
      "    net.forward(end=end)\n",
      "    objective(dst)  # specify the optimization objective\n",
      "    net.backward(start=end)\n",
      "    g = src.diff[0]\n",
      "    # apply normalized ascent step to the input image\n",
      "    src.data[:] += step_size/np.abs(g).mean() * g\n",
      "\n",
      "    src.data[0] = np.roll(np.roll(src.data[0], -ox, -1), -oy, -2) # unshift image\n",
      "            \n",
      "    if clip:\n",
      "        bias = net.transformer.mean['data']\n",
      "        src.data[:] = np.clip(src.data, -bias, 255-bias)    "
     ],
     "language": "python",
     "metadata": {
      "cellView": "both",
      "colab_type": "code",
      "id": "pN43nMsHOZNg"
     },
     "outputs": [],
     "prompt_number": 17
    },
    {
     "cell_type": "markdown",
     "metadata": {
      "colab_type": "text",
      "id": "nphEdlBgOZNk"
     },
     "source": [
      "Next we implement an ascent through different scales. We call these scales \"octaves\"."
     ]
    },
    {
     "cell_type": "code",
     "collapsed": false,
     "input": [
      "def deepdream(net, base_img, iter_n=10, octave_n=4, octave_scale=1.4, \n",
      "              end='inception_4c/output', clip=True, **step_params):\n",
      "    # prepare base images for all octaves\n",
      "    octaves = [preprocess(net, base_img)]\n",
      "    for i in xrange(octave_n-1):\n",
      "        octaves.append(nd.zoom(octaves[-1], (1, 1.0/octave_scale,1.0/octave_scale), order=1))\n",
      "    \n",
      "    src = net.blobs['data']\n",
      "    detail = np.zeros_like(octaves[-1]) # allocate image for network-produced details\n",
      "    for octave, octave_base in enumerate(octaves[::-1]):\n",
      "        h, w = octave_base.shape[-2:]\n",
      "        if octave > 0:\n",
      "            # upscale details from the previous octave\n",
      "            h1, w1 = detail.shape[-2:]\n",
      "            detail = nd.zoom(detail, (1, 1.0*h/h1,1.0*w/w1), order=1)\n",
      "\n",
      "        src.reshape(1,3,h,w) # resize the network's input image size\n",
      "        src.data[0] = octave_base+detail\n",
      "        for i in xrange(iter_n):\n",
      "            make_step(net, end=end, clip=clip, **step_params)\n",
      "            \n",
      "            # visualization\n",
      "            vis = deprocess(net, src.data[0])\n",
      "            if not clip: # adjust image contrast if clipping is disabled\n",
      "                vis = vis*(255.0/np.percentile(vis, 99.98))\n",
      "            showarray(vis)\n",
      "            print octave, i, end, vis.shape\n",
      "            clear_output(wait=True)\n",
      "            \n",
      "        # extract details produced on the current octave\n",
      "        detail = src.data[0]-octave_base\n",
      "    # returning the resulting image\n",
      "    return deprocess(net, src.data[0])"
     ],
     "language": "python",
     "metadata": {
      "cellView": "both",
      "colab_type": "code",
      "id": "ZpFIn8l0OZNq"
     },
     "outputs": [],
     "prompt_number": 5
    },
    {
     "cell_type": "markdown",
     "metadata": {
      "colab_type": "text",
      "id": "QrcdU-lmOZNx"
     },
     "source": [
      "Now we are ready to let the neural network reveal its dreams! Let's take a [cloud image](https://commons.wikimedia.org/wiki/File:Appearance_of_sky_for_weather_forecast,_Dhaka,_Bangladesh.JPG) as a starting point:"
     ]
    }
   ]
  }
 ]
}