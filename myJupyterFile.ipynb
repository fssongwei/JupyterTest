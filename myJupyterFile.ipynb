{
 "cells": [
  {
   "cell_type": "code",
   "execution_count": 1,
   "id": "european-jaguar",
   "metadata": {},
   "outputs": [
    {
     "name": "stdout",
     "output_type": "stream",
     "text": [
      "Hello, World!\n"
     ]
    }
   ],
   "source": [
    "print(\"Hello, World!\");"
   ]
  },
  {
   "cell_type": "markdown",
   "id": "declared-institution",
   "metadata": {},
   "source": [
    "## This will be a regular markdown title\n",
    "\n",
    "* 1\n",
    "* 2\n",
    "* 3\n",
    "\n",
    "---\n",
    "\n",
    "hahahah"
   ]
  },
  {
   "cell_type": "code",
   "execution_count": 4,
   "id": "entire-covering",
   "metadata": {},
   "outputs": [
    {
     "name": "stdout",
     "output_type": "stream",
     "text": [
      "3\n"
     ]
    }
   ],
   "source": [
    "def add (x, y):\n",
    "    return x + y\n",
    "a = 1\n",
    "b = 2\n",
    "print(add(a, b))"
   ]
  },
  {
   "cell_type": "code",
   "execution_count": null,
   "id": "varied-envelope",
   "metadata": {},
   "outputs": [],
   "source": [
    "print(\"hi\")"
   ]
  }
 ],
 "metadata": {
  "kernelspec": {
   "display_name": "Python 3",
   "language": "python",
   "name": "python3"
  },
  "language_info": {
   "codemirror_mode": {
    "name": "ipython",
    "version": 3
   },
   "file_extension": ".py",
   "mimetype": "text/x-python",
   "name": "python",
   "nbconvert_exporter": "python",
   "pygments_lexer": "ipython3",
   "version": "3.8.5"
  }
 },
 "nbformat": 4,
 "nbformat_minor": 5
}
